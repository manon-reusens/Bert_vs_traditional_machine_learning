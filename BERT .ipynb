{
 "cells": [
  {
   "cell_type": "markdown",
   "id": "569eb281",
   "metadata": {},
   "source": [
    "Source: https://github.com/vsa-datascience/vlaams-twitter-sentiment-model/tree/master/twitter_sentiment_classifier"
   ]
  },
  {
   "cell_type": "code",
   "execution_count": null,
   "id": "49074444",
   "metadata": {},
   "outputs": [],
   "source": [
    "import json\n",
    "import os\n",
    "import pandas as pd\n",
    "from sklearn.model_selection import train_test_split"
   ]
  },
  {
   "cell_type": "code",
   "execution_count": null,
   "id": "757b77c9",
   "metadata": {},
   "outputs": [],
   "source": [
    "df_annotations=  pd.read_csv('full_cleaned_dataset.csv')\n",
    "df_annotations# to display the first 5 lines of loaded data"
   ]
  },
  {
   "cell_type": "code",
   "execution_count": null,
   "id": "3a76c20f",
   "metadata": {},
   "outputs": [],
   "source": [
    "X_train, X_test, y_train, y_test = train_test_split(df_annotations['text'], df_annotations['label'], test_size=0.3, random_state=42, stratify=df_annotations['label'])\n",
    "X_train, X_val, y_train, y_val = train_test_split(X_train, y_train, test_size=0.2, random_state=42, stratify=y_train)"
   ]
  },
  {
   "cell_type": "code",
   "execution_count": null,
   "id": "a95ec82b",
   "metadata": {},
   "outputs": [],
   "source": [
    "Train=pd.DataFrame()\n",
    "for i in X_train.index:\n",
    "    Train=Train.append(df_annotations.iloc[i])\n",
    "Test=pd.DataFrame()\n",
    "for i in X_test.index:\n",
    "    Test=Test.append(df_annotations.iloc[i])\n",
    "Val=pd.DataFrame()\n",
    "for i in X_val.index:\n",
    "    Val=Val.append(df_annotations.iloc[i])"
   ]
  },
  {
   "cell_type": "code",
   "execution_count": null,
   "id": "37412b0a",
   "metadata": {},
   "outputs": [],
   "source": [
    "import json\n",
    "\n",
    "def dump_jsonl(data, output_path, append=False):\n",
    "    \"\"\"\n",
    "    Write list of objects to a JSON lines file.\n",
    "    \"\"\"\n",
    "    mode = 'a+' if append else 'w'\n",
    "    with open(output_path, mode, encoding='utf-8') as f:\n",
    "        data = data.to_dict('index')\n",
    "        for i in data:\n",
    "            json_record = json.dumps(data[i], ensure_ascii=False)\n",
    "            f.write(json_record + '\\n')\n",
    "    print('Wrote {} records to {}'.format(len(data), output_path))\n",
    "\n",
    "def load_jsonl(input_path) -> list:\n",
    "    \"\"\"\n",
    "    Read list of objects from a JSON lines file.\n",
    "    \"\"\"\n",
    "    data = []\n",
    "    with open(input_path, 'r', encoding='utf-8') as f:\n",
    "        for line in f:\n",
    "            data.append(json.loads(line.rstrip('\\n|\\r')))\n",
    "    print('Loaded {} records from {}'.format(len(data), input_path))\n",
    "    return data"
   ]
  },
  {
   "cell_type": "code",
   "execution_count": null,
   "id": "8b2eb186",
   "metadata": {},
   "outputs": [],
   "source": [
    "dump_jsonl(Train, 'train.jsonl')\n",
    "dump_jsonl(Test, 'test.jsonl')\n",
    "dump_jsonl(Val, 'val.jsonl')"
   ]
  },
  {
   "cell_type": "code",
   "execution_count": null,
   "id": "ba3dd7d4",
   "metadata": {},
   "outputs": [],
   "source": [
    "with open(os.path.expanduser('test_train.jsonl'),encoding=\"utf8\") as f:\n",
    "    annotations_train = [json.loads(line) for line in f.readlines()]\n",
    "print(f\"Loaded in {len(annotations_train)} training annotations\")\n",
    "\n",
    "# Testing\n",
    "with open(os.path.expanduser('test_test.jsonl'), encoding=\"utf8\") as f:\n",
    "    annotations_test = [json.loads(line) for line in f.readlines()]\n",
    "print(f\"Loaded in {len(annotations_test)} testing annotations\")\n",
    "\n",
    "# Validation\n",
    "with open(os.path.expanduser('test_val.jsonl'), encoding=\"utf8\") as f:\n",
    "    annotations_val = [json.loads(line) for line in f.readlines()]\n",
    "print(f\"Loaded in {len(annotations_val)} validation annotations\")"
   ]
  },
  {
   "cell_type": "code",
   "execution_count": null,
   "id": "dd1b0771",
   "metadata": {
    "scrolled": true
   },
   "outputs": [],
   "source": [
    "from twitter_sentiment_classifier.sentiment_model import SentimentModel"
   ]
  },
  {
   "cell_type": "code",
   "execution_count": null,
   "id": "e1d94abb",
   "metadata": {
    "scrolled": true
   },
   "outputs": [],
   "source": [
    "model = SentimentModel(\n",
    "    cuda=False,\n",
    ")\n",
    "model"
   ]
  },
  {
   "cell_type": "code",
   "execution_count": null,
   "id": "975bb944",
   "metadata": {},
   "outputs": [],
   "source": [
    "model.reset(initialise=False)"
   ]
  },
  {
   "cell_type": "code",
   "execution_count": null,
   "id": "a28cce05",
   "metadata": {},
   "outputs": [],
   "source": [
    "# Number of training epochs\n",
    "N_EPOCHS = 2\n",
    "\n",
    "# Number of last layers prone to change during training\n",
    "N_LAYERS = 1"
   ]
  },
  {
   "cell_type": "code",
   "execution_count": null,
   "id": "21900b29",
   "metadata": {
    "scrolled": true
   },
   "outputs": [],
   "source": [
    "model.train(\n",
    "    n_epochs=N_EPOCHS,\n",
    "    train_samples=annotations_train,\n",
    "    val_samples=annotations_val,\n",
    "    test_samples=annotations_test,\n",
    "    n_last_layers=N_LAYERS,\n",
    ")"
   ]
  },
  {
   "cell_type": "code",
   "execution_count": null,
   "id": "a9429e46",
   "metadata": {},
   "outputs": [],
   "source": [
    "from twitter_sentiment_classifier.sentiment_model import Encoder"
   ]
  },
  {
   "cell_type": "code",
   "execution_count": null,
   "id": "569476fa",
   "metadata": {},
   "outputs": [],
   "source": [
    "# Load in the model\n",
    "encoder = Encoder(\n",
    "    cuda=False,\n",
    ")\n",
    "encoder"
   ]
  },
  {
   "cell_type": "code",
   "execution_count": null,
   "id": "bcfb8134",
   "metadata": {},
   "outputs": [],
   "source": [
    "annotations_combined = annotations_train + annotations_val + annotations_test"
   ]
  },
  {
   "cell_type": "code",
   "execution_count": null,
   "id": "7a71a601",
   "metadata": {},
   "outputs": [],
   "source": [
    "encoder.encode_data(\n",
    "    data_samples=annotations_combined,\n",
    ")"
   ]
  },
  {
   "cell_type": "code",
   "execution_count": null,
   "id": "c3ec92d2",
   "metadata": {},
   "outputs": [],
   "source": [
    "from twitter_sentiment_classifier.sentiment_model import Classifier"
   ]
  },
  {
   "cell_type": "code",
   "execution_count": null,
   "id": "ea02966e",
   "metadata": {},
   "outputs": [],
   "source": [
    "classifier = Classifier()\n",
    "classifier"
   ]
  },
  {
   "cell_type": "code",
   "execution_count": null,
   "id": "24a363e8",
   "metadata": {},
   "outputs": [],
   "source": [
    "# Number of training epochs\n",
    "N_EPOCHS = 10"
   ]
  },
  {
   "cell_type": "code",
   "execution_count": null,
   "id": "860f0bc0",
   "metadata": {},
   "outputs": [],
   "source": [
    "classifier.train(\n",
    "    n_epochs=N_EPOCHS,\n",
    "    train_samples=annotations_train,\n",
    "    val_samples=annotations_val,\n",
    "    test_samples=annotations_test,\n",
    ")"
   ]
  },
  {
   "cell_type": "code",
   "execution_count": null,
   "id": "1df7789d",
   "metadata": {},
   "outputs": [],
   "source": [
    "import pickle"
   ]
  },
  {
   "cell_type": "code",
   "execution_count": null,
   "id": "dcb5eaa8",
   "metadata": {},
   "outputs": [],
   "source": [
    "filename = 'BERT_model_selftrained'\n",
    "pickle.dump(model, open(filename, 'wb'))"
   ]
  },
  {
   "cell_type": "code",
   "execution_count": null,
   "id": "50f2630e",
   "metadata": {},
   "outputs": [],
   "source": [
    "filename = 'BERT_classifier_selftrained'\n",
    "pickle.dump(model, open(filename, 'wb'))"
   ]
  },
  {
   "cell_type": "code",
   "execution_count": null,
   "id": "6ffed626",
   "metadata": {},
   "outputs": [],
   "source": [
    "loaded_model = pickle.load(open(filename, 'rb'))\n",
    "result = loaded_model.eval(annotations_test)\n",
    "print(result)"
   ]
  }
 ],
 "metadata": {
  "kernelspec": {
   "display_name": "Python 3",
   "language": "python",
   "name": "python3"
  },
  "language_info": {
   "codemirror_mode": {
    "name": "ipython",
    "version": 3
   },
   "file_extension": ".py",
   "mimetype": "text/x-python",
   "name": "python",
   "nbconvert_exporter": "python",
   "pygments_lexer": "ipython3",
   "version": "3.8.8"
  }
 },
 "nbformat": 4,
 "nbformat_minor": 5
}
